{
  "nbformat": 4,
  "nbformat_minor": 0,
  "metadata": {
    "colab": {
      "provenance": [],
      "mount_file_id": "1jC-_5vGpxM-7tXeM-w4ta-2L2BXQAkpt",
      "authorship_tag": "ABX9TyMVUnE4m7aReRw57tv0tPDC",
      "include_colab_link": true
    },
    "kernelspec": {
      "name": "python3",
      "display_name": "Python 3"
    },
    "language_info": {
      "name": "python"
    }
  },
  "cells": [
    {
      "cell_type": "markdown",
      "metadata": {
        "id": "view-in-github",
        "colab_type": "text"
      },
      "source": [
        "<a href=\"https://colab.research.google.com/github/1e1e1e1e1e1e1e1/123456/blob/main/python_API.ipynb\" target=\"_parent\"><img src=\"https://colab.research.google.com/assets/colab-badge.svg\" alt=\"Open In Colab\"/></a>"
      ]
    },
    {
      "cell_type": "markdown",
      "source": [
        "**#Read/Writ**"
      ],
      "metadata": {
        "id": "5C4LGe-dI_QI"
      }
    },
    {
      "cell_type": "code",
      "execution_count": 1,
      "metadata": {
        "colab": {
          "base_uri": "https://localhost:8080/"
        },
        "id": "X1Wus26RIZEH",
        "outputId": "2bcbfa36-6f6d-4680-8a3b-977506c83a2a"
      },
      "outputs": [
        {
          "output_type": "stream",
          "name": "stdout",
          "text": [
            "Hello Python\n"
          ]
        }
      ],
      "source": [
        "with open(\", w\") as f:\n",
        "  f.write(\"Today is Thursday\\n\")\n",
        "  f.write(\"I am in the class\\n\")\n",
        "  f.write(\"python\")\n"
      ]
    }
  ]
}